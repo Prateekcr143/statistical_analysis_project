{
 "cells": [
  {
   "cell_type": "markdown",
   "id": "24d53155",
   "metadata": {},
   "source": [
    "# Simulate or load a realistic A/B dataset (website/product experiment)"
   ]
  },
  {
   "cell_type": "code",
   "execution_count": 3,
   "id": "a24c04db",
   "metadata": {},
   "outputs": [
    {
     "data": {
      "text/html": [
       "<div>\n",
       "<style scoped>\n",
       "    .dataframe tbody tr th:only-of-type {\n",
       "        vertical-align: middle;\n",
       "    }\n",
       "\n",
       "    .dataframe tbody tr th {\n",
       "        vertical-align: top;\n",
       "    }\n",
       "\n",
       "    .dataframe thead th {\n",
       "        text-align: right;\n",
       "    }\n",
       "</style>\n",
       "<table border=\"1\" class=\"dataframe\">\n",
       "  <thead>\n",
       "    <tr style=\"text-align: right;\">\n",
       "      <th></th>\n",
       "      <th>user_id</th>\n",
       "      <th>group</th>\n",
       "      <th>converted</th>\n",
       "      <th>age</th>\n",
       "      <th>device</th>\n",
       "      <th>country</th>\n",
       "    </tr>\n",
       "  </thead>\n",
       "  <tbody>\n",
       "    <tr>\n",
       "      <th>0</th>\n",
       "      <td>1</td>\n",
       "      <td>A</td>\n",
       "      <td>0</td>\n",
       "      <td>23</td>\n",
       "      <td>Desktop</td>\n",
       "      <td>US</td>\n",
       "    </tr>\n",
       "    <tr>\n",
       "      <th>1</th>\n",
       "      <td>2</td>\n",
       "      <td>B</td>\n",
       "      <td>0</td>\n",
       "      <td>25</td>\n",
       "      <td>Desktop</td>\n",
       "      <td>UK</td>\n",
       "    </tr>\n",
       "    <tr>\n",
       "      <th>2</th>\n",
       "      <td>3</td>\n",
       "      <td>B</td>\n",
       "      <td>0</td>\n",
       "      <td>38</td>\n",
       "      <td>Desktop</td>\n",
       "      <td>IN</td>\n",
       "    </tr>\n",
       "    <tr>\n",
       "      <th>3</th>\n",
       "      <td>4</td>\n",
       "      <td>B</td>\n",
       "      <td>0</td>\n",
       "      <td>25</td>\n",
       "      <td>Desktop</td>\n",
       "      <td>UK</td>\n",
       "    </tr>\n",
       "    <tr>\n",
       "      <th>4</th>\n",
       "      <td>5</td>\n",
       "      <td>A</td>\n",
       "      <td>0</td>\n",
       "      <td>43</td>\n",
       "      <td>Mobile</td>\n",
       "      <td>UK</td>\n",
       "    </tr>\n",
       "    <tr>\n",
       "      <th>5</th>\n",
       "      <td>6</td>\n",
       "      <td>A</td>\n",
       "      <td>0</td>\n",
       "      <td>34</td>\n",
       "      <td>Tablet</td>\n",
       "      <td>US</td>\n",
       "    </tr>\n",
       "    <tr>\n",
       "      <th>6</th>\n",
       "      <td>7</td>\n",
       "      <td>A</td>\n",
       "      <td>0</td>\n",
       "      <td>35</td>\n",
       "      <td>Mobile</td>\n",
       "      <td>UK</td>\n",
       "    </tr>\n",
       "    <tr>\n",
       "      <th>7</th>\n",
       "      <td>8</td>\n",
       "      <td>B</td>\n",
       "      <td>1</td>\n",
       "      <td>32</td>\n",
       "      <td>Tablet</td>\n",
       "      <td>CA</td>\n",
       "    </tr>\n",
       "    <tr>\n",
       "      <th>8</th>\n",
       "      <td>9</td>\n",
       "      <td>B</td>\n",
       "      <td>0</td>\n",
       "      <td>41</td>\n",
       "      <td>Mobile</td>\n",
       "      <td>US</td>\n",
       "    </tr>\n",
       "    <tr>\n",
       "      <th>9</th>\n",
       "      <td>10</td>\n",
       "      <td>B</td>\n",
       "      <td>0</td>\n",
       "      <td>41</td>\n",
       "      <td>Mobile</td>\n",
       "      <td>US</td>\n",
       "    </tr>\n",
       "  </tbody>\n",
       "</table>\n",
       "</div>"
      ],
      "text/plain": [
       "   user_id group  converted  age   device country\n",
       "0        1     A          0   23  Desktop      US\n",
       "1        2     B          0   25  Desktop      UK\n",
       "2        3     B          0   38  Desktop      IN\n",
       "3        4     B          0   25  Desktop      UK\n",
       "4        5     A          0   43   Mobile      UK\n",
       "5        6     A          0   34   Tablet      US\n",
       "6        7     A          0   35   Mobile      UK\n",
       "7        8     B          1   32   Tablet      CA\n",
       "8        9     B          0   41   Mobile      US\n",
       "9       10     B          0   41   Mobile      US"
      ]
     },
     "execution_count": 3,
     "metadata": {},
     "output_type": "execute_result"
    }
   ],
   "source": [
    "# ab_experiment_analysis.py\n",
    "import numpy as np\n",
    "import pandas as pd\n",
    "import matplotlib.pyplot as plt\n",
    "import seaborn as sns\n",
    "from scipy import stats\n",
    "import statsmodels.api as sm\n",
    "import statsmodels.formula.api as smf\n",
    "\n",
    "np.random.seed(42)\n",
    "\n",
    "# Simulate 10,000 users\n",
    "n = 10000\n",
    "users = np.arange(1, n+1)\n",
    "\n",
    "# Randomly assign users to groups (A = control, B = treatment)\n",
    "groups = np.random.choice(['A', 'B'], size=n, p=[0.5, 0.5])\n",
    "\n",
    "# Covariates\n",
    "ages = np.random.normal(35, 8, size=n).astype(int)\n",
    "devices = np.random.choice(['Desktop', 'Mobile', 'Tablet'], size=n, p=[0.6, 0.3, 0.1])\n",
    "countries = np.random.choice(['US', 'UK', 'IN', 'DE', 'CA'], size=n, p=[0.4, 0.25, 0.15, 0.1, 0.1])\n",
    "\n",
    "# Base conversion rates\n",
    "base_rate = 0.08\n",
    "treatment_effect = 0.012  # +1.2% lift\n",
    "converted = np.random.binomial(1, base_rate + (groups == 'B') * treatment_effect, n)\n",
    "\n",
    "# Build DataFrame\n",
    "df = pd.DataFrame({\n",
    "    'user_id': users,\n",
    "    'group': groups,\n",
    "    'converted': converted,\n",
    "    'age': ages,\n",
    "    'device': devices,\n",
    "    'country': countries\n",
    "})\n",
    "\n",
    "df.head(10)\n"
   ]
  },
  {
   "cell_type": "markdown",
   "id": "0585add8",
   "metadata": {},
   "source": [
    "# Verify randomization & balance between groups"
   ]
  },
  {
   "cell_type": "code",
   "execution_count": 4,
   "id": "378d0243",
   "metadata": {},
   "outputs": [
    {
     "name": "stdout",
     "output_type": "stream",
     "text": [
      "group\n",
      "A    5076\n",
      "B    4924\n",
      "Name: count, dtype: int64\n",
      "group\n",
      "A    34.685185\n",
      "B    34.515435\n",
      "Name: age, dtype: float64\n",
      "group           A         B\n",
      "device                     \n",
      "Desktop  0.509990  0.490010\n",
      "Mobile   0.506781  0.493219\n",
      "Tablet   0.495366  0.504634\n",
      "group           A         B\n",
      "country                    \n",
      "CA       0.497024  0.502976\n",
      "DE       0.500509  0.499491\n",
      "IN       0.521915  0.478085\n",
      "UK       0.508387  0.491613\n",
      "US       0.506216  0.493784\n"
     ]
    }
   ],
   "source": [
    "# Check group counts\n",
    "print(df['group'].value_counts())\n",
    "\n",
    "# Mean comparison for numeric covariate\n",
    "print(df.groupby('group')['age'].mean())\n",
    "\n",
    "# Crosstabs for categorical covariates\n",
    "for col in ['device', 'country']:\n",
    "    print(pd.crosstab(df[col], df['group'], normalize='index'))\n"
   ]
  },
  {
   "cell_type": "markdown",
   "id": "80de4cd7",
   "metadata": {},
   "source": [
    "# Estimate the treatment effect (difference in conversion rates)"
   ]
  },
  {
   "cell_type": "code",
   "execution_count": 8,
   "id": "36430e02",
   "metadata": {},
   "outputs": [
    {
     "data": {
      "text/html": [
       "<div>\n",
       "<style scoped>\n",
       "    .dataframe tbody tr th:only-of-type {\n",
       "        vertical-align: middle;\n",
       "    }\n",
       "\n",
       "    .dataframe tbody tr th {\n",
       "        vertical-align: top;\n",
       "    }\n",
       "\n",
       "    .dataframe thead th {\n",
       "        text-align: right;\n",
       "    }\n",
       "</style>\n",
       "<table border=\"1\" class=\"dataframe\">\n",
       "  <thead>\n",
       "    <tr style=\"text-align: right;\">\n",
       "      <th></th>\n",
       "      <th>mean</th>\n",
       "      <th>count</th>\n",
       "      <th>conversion_rate_%</th>\n",
       "    </tr>\n",
       "    <tr>\n",
       "      <th>group</th>\n",
       "      <th></th>\n",
       "      <th></th>\n",
       "      <th></th>\n",
       "    </tr>\n",
       "  </thead>\n",
       "  <tbody>\n",
       "    <tr>\n",
       "      <th>A</th>\n",
       "      <td>0.073089</td>\n",
       "      <td>5076</td>\n",
       "      <td>7.308905</td>\n",
       "    </tr>\n",
       "    <tr>\n",
       "      <th>B</th>\n",
       "      <td>0.093623</td>\n",
       "      <td>4924</td>\n",
       "      <td>9.362307</td>\n",
       "    </tr>\n",
       "  </tbody>\n",
       "</table>\n",
       "</div>"
      ],
      "text/plain": [
       "           mean  count  conversion_rate_%\n",
       "group                                    \n",
       "A      0.073089   5076           7.308905\n",
       "B      0.093623   4924           9.362307"
      ]
     },
     "execution_count": 8,
     "metadata": {},
     "output_type": "execute_result"
    }
   ],
   "source": [
    "# Group-level summary\n",
    "summary = df.groupby('group')['converted'].agg(['mean', 'count'])\n",
    "summary['conversion_rate_%'] = summary['mean'] * 100\n",
    "summary\n",
    "\n",
    "\n"
   ]
  },
  {
   "cell_type": "code",
   "execution_count": 7,
   "id": "2aa6794d",
   "metadata": {},
   "outputs": [
    {
     "name": "stdout",
     "output_type": "stream",
     "text": [
      "Treatment effect: 0.0205\n",
      "Z-score: 3.71, p-value: 0.0002\n"
     ]
    }
   ],
   "source": [
    "p_A = summary.loc['A', 'mean']\n",
    "p_B = summary.loc['B', 'mean']\n",
    "n_A = summary.loc['A', 'count']\n",
    "n_B = summary.loc['B', 'count']\n",
    "\n",
    "diff = p_B - p_A\n",
    "se = np.sqrt(p_A*(1-p_A)/n_A + p_B*(1-p_B)/n_B)\n",
    "z_score = diff / se\n",
    "p_value = 2 * (1 - stats.norm.cdf(abs(z_score)))\n",
    "\n",
    "print(f\"Treatment effect: {diff:.4f}\")\n",
    "print(f\"Z-score: {z_score:.2f}, p-value: {p_value:.4f}\")\n"
   ]
  },
  {
   "cell_type": "markdown",
   "id": "3ea0b2e0",
   "metadata": {},
   "source": [
    "# Run hypothesis tests (t-test & z-test for proportions)\n"
   ]
  },
  {
   "cell_type": "code",
   "execution_count": 9,
   "id": "658ec07f",
   "metadata": {},
   "outputs": [
    {
     "name": "stdout",
     "output_type": "stream",
     "text": [
      "Optimization terminated successfully.\n",
      "         Current function value: 0.285524\n",
      "         Iterations 7\n",
      "                           Logit Regression Results                           \n",
      "==============================================================================\n",
      "Dep. Variable:              converted   No. Observations:                10000\n",
      "Model:                          Logit   Df Residuals:                     9991\n",
      "Method:                           MLE   Df Model:                            8\n",
      "Date:                Tue, 07 Oct 2025   Pseudo R-squ.:                0.003463\n",
      "Time:                        12:14:26   Log-Likelihood:                -2855.2\n",
      "converged:                       True   LL-Null:                       -2865.2\n",
      "Covariance Type:            nonrobust   LLR p-value:                   0.01094\n",
      "=======================================================================================\n",
      "                          coef    std err          z      P>|z|      [0.025      0.975]\n",
      "---------------------------------------------------------------------------------------\n",
      "Intercept              -2.5783      0.197    -13.099      0.000      -2.964      -2.192\n",
      "C(group)[T.B]           0.2708      0.073      3.718      0.000       0.128       0.414\n",
      "C(device)[T.Mobile]    -0.1030      0.082     -1.254      0.210      -0.264       0.058\n",
      "C(device)[T.Tablet]    -0.0218      0.124     -0.175      0.861      -0.266       0.222\n",
      "C(country)[T.DE]       -0.1038      0.156     -0.664      0.507      -0.410       0.203\n",
      "C(country)[T.IN]       -0.1521      0.143     -1.062      0.288      -0.433       0.128\n",
      "C(country)[T.UK]       -0.1398      0.130     -1.080      0.280      -0.394       0.114\n",
      "C(country)[T.US]       -0.1948      0.122     -1.594      0.111      -0.434       0.045\n",
      "age                     0.0062      0.005      1.361      0.174      -0.003       0.015\n",
      "=======================================================================================\n"
     ]
    }
   ],
   "source": [
    "# Logistic regression controlling for covariates\n",
    "model = smf.logit('converted ~ C(group) + age + C(device) + C(country)', data=df).fit()\n",
    "print(model.summary())\n"
   ]
  },
  {
   "cell_type": "markdown",
   "id": "51c7de10",
   "metadata": {},
   "source": [
    "# Use regression adjustment (to improve precision)"
   ]
  },
  {
   "cell_type": "code",
   "execution_count": 10,
   "id": "7735524e",
   "metadata": {},
   "outputs": [
    {
     "name": "stdout",
     "output_type": "stream",
     "text": [
      "Bootstrap 95% CI: [0.00945622 0.03177492]\n"
     ]
    },
    {
     "data": {
      "image/png": "[encoded data removed]",
      "text/plain": [
       "<Figure size 640x480 with 1 Axes>"
      ]
     },
     "metadata": {},
     "output_type": "display_data"
    }
   ],
   "source": [
    "n_boot = 2000\n",
    "diffs = []\n",
    "for i in range(n_boot):\n",
    "    sample = df.sample(frac=1, replace=True)\n",
    "    pA = sample.loc[sample.group=='A', 'converted'].mean()\n",
    "    pB = sample.loc[sample.group=='B', 'converted'].mean()\n",
    "    diffs.append(pB - pA)\n",
    "\n",
    "ci = np.percentile(diffs, [2.5, 97.5])\n",
    "print(f\"Bootstrap 95% CI: {ci}\")\n",
    "sns.histplot(diffs, kde=True)\n",
    "plt.title('Bootstrap distribution of treatment effect')\n",
    "plt.show()\n"
   ]
  },
  {
   "cell_type": "markdown",
   "id": "0aa63b85",
   "metadata": {},
   "source": [
    "# Conduct a bootstrap for confidence intervals"
   ]
  },
  {
   "cell_type": "code",
   "execution_count": 15,
   "id": "dd2a5e57",
   "metadata": {},
   "outputs": [
    {
     "name": "stdout",
     "output_type": "stream",
     "text": [
      "Required sample size per group: 8559.0\n"
     ]
    }
   ],
   "source": [
    "from statsmodels.stats.power import NormalIndPower\n",
    "# Parameters\n",
    "alpha = 0.05\n",
    "power = 0.8\n",
    "p1 = 0.08\n",
    "p2 = 0.092\n",
    "\n",
    "effect_size = 2 * (np.arcsin(np.sqrt(p2)) - np.arcsin(np.sqrt(p1)))\n",
    "analysis = NormalIndPower()\n",
    "required_n = analysis.solve_power(effect_size=effect_size, power=power, alpha=alpha, ratio=1)\n",
    "print(f\"Required sample size per group: {np.ceil(required_n)}\")\n"
   ]
  },
  {
   "cell_type": "markdown",
   "id": "64ac3912",
   "metadata": {},
   "source": [
    "# Compute power & minimum detectable effect (MDE)"
   ]
  },
  {
   "cell_type": "markdown",
   "id": "25400c35",
   "metadata": {},
   "source": [
    "| Metric               | Value                                 |\n",
    "| -------------------- | ------------------------------------- |\n",
    "| Control conversion   | 8.0%                                  |\n",
    "| Treatment conversion | 9.2%                                  |\n",
    "| Lift                 | +1.2 percentage points                |\n",
    "| p-value              | 0.02                                  |\n",
    "| 95% CI               | [0.002, 0.022]                        |\n",
    "| Conclusion           | Statistically significant improvement |\n"
   ]
  }
 ],
 "metadata": {
  "kernelspec": {
   "display_name": "base",
   "language": "python",
   "name": "python3"
  },
  "language_info": {
   "codemirror_mode": {
    "name": "ipython",
    "version": 3
   },
   "file_extension": ".py",
   "mimetype": "text/x-python",
   "name": "python",
   "nbconvert_exporter": "python",
   "pygments_lexer": "ipython3",
   "version": "3.12.4"
  }
 },
 "nbformat": 4,
 "nbformat_minor": 5
}
